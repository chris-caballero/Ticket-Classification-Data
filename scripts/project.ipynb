{
 "cells": [
  {
   "attachments": {},
   "cell_type": "markdown",
   "metadata": {},
   "source": [
    "#### Imports"
   ]
  },
  {
   "cell_type": "code",
   "execution_count": 1,
   "metadata": {},
   "outputs": [
    {
     "name": "stderr",
     "output_type": "stream",
     "text": [
      "/mnt/c/Users/chris/Desktop/Github/Ticket-Classification/ticketenv/lib/python3.10/site-packages/tqdm/auto.py:21: TqdmWarning: IProgress not found. Please update jupyter and ipywidgets. See https://ipywidgets.readthedocs.io/en/stable/user_install.html\n",
      "  from .autonotebook import tqdm as notebook_tqdm\n"
     ]
    }
   ],
   "source": [
    "import os\n",
    "import torch\n",
    "import warnings\n",
    "import pandas as pd\n",
    "from transformers import AutoTokenizer\n",
    "from utils.utils import *\n",
    "from utils.data import TicketDataset, to_dataloader\n",
    "from utils.models import ConvNet, EncoderTransformer, BertClassifier\n",
    "from utils.model_utils import get_class_weights, train_and_evaluate\n",
    "\n",
    "warnings.simplefilter(action='ignore', category=FutureWarning)\n",
    "os.environ[\"TOKENIZERS_PARALLELISM\"] = \"false\"\n",
    "support_tickets_file = '../data/preprocessed_labeled_complaints.pkl'\n",
    "save_models = False"
   ]
  },
  {
   "attachments": {},
   "cell_type": "markdown",
   "metadata": {},
   "source": [
    "#### Loading the Preprocessed Data\n",
    "***\n",
    "* For simplicity, I preprocessed the data using my own implementations of the methods used by the author of the dataset and saved the results into an new file so that the data is ready to use.\n",
    "* This dataset is pulled from Kaggle, where users upload **open-source** datasets for almost any topic.\n",
    "* The author of the Automatic Ticket Classification Dataset: https://www.kaggle.com/venkatasubramanian"
   ]
  },
  {
   "cell_type": "code",
   "execution_count": 2,
   "metadata": {},
   "outputs": [
    {
     "data": {
      "text/html": [
       "<div>\n",
       "<style scoped>\n",
       "    .dataframe tbody tr th:only-of-type {\n",
       "        vertical-align: middle;\n",
       "    }\n",
       "\n",
       "    .dataframe tbody tr th {\n",
       "        vertical-align: top;\n",
       "    }\n",
       "\n",
       "    .dataframe thead th {\n",
       "        text-align: right;\n",
       "    }\n",
       "</style>\n",
       "<table border=\"1\" class=\"dataframe\">\n",
       "  <thead>\n",
       "    <tr style=\"text-align: right;\">\n",
       "      <th></th>\n",
       "      <th>complaint</th>\n",
       "      <th>complaint_lemma</th>\n",
       "      <th>complaint_nouns</th>\n",
       "      <th>topic</th>\n",
       "      <th>label</th>\n",
       "    </tr>\n",
       "  </thead>\n",
       "  <tbody>\n",
       "    <tr>\n",
       "      <th>12043</th>\n",
       "      <td>i received a chase debit card linked to a newl...</td>\n",
       "      <td>I receive a chase debit card link to a newly o...</td>\n",
       "      <td>debit card link checking account company accou...</td>\n",
       "      <td>Bank account services</td>\n",
       "      <td>0</td>\n",
       "    </tr>\n",
       "    <tr>\n",
       "      <th>8317</th>\n",
       "      <td>i had a mortgage with chase that i wanted to r...</td>\n",
       "      <td>I have a mortgage with chase that I want to re...</td>\n",
       "      <td>mortgage chase lock rate chase refinance form ...</td>\n",
       "      <td>Mortgages/loans</td>\n",
       "      <td>4</td>\n",
       "    </tr>\n",
       "    <tr>\n",
       "      <th>70576</th>\n",
       "      <td>i have made transferred payment to my daughter...</td>\n",
       "      <td>I have make transfer payment to my daughter ac...</td>\n",
       "      <td>payment daughter account bank daughter account...</td>\n",
       "      <td>Bank account services</td>\n",
       "      <td>0</td>\n",
       "    </tr>\n",
       "    <tr>\n",
       "      <th>54649</th>\n",
       "      <td>on friday   charged over  dollars on my debit ...</td>\n",
       "      <td>on friday    charge over   dollar on my debit ...</td>\n",
       "      <td>charge dollar debit account permission claim p...</td>\n",
       "      <td>Others</td>\n",
       "      <td>2</td>\n",
       "    </tr>\n",
       "    <tr>\n",
       "      <th>3194</th>\n",
       "      <td>chase first card allowed     to charge to my c...</td>\n",
       "      <td>chase first card allow      to charge to my cr...</td>\n",
       "      <td>chase credit card month stay authorization dis...</td>\n",
       "      <td>Theft / Dispute reporting</td>\n",
       "      <td>3</td>\n",
       "    </tr>\n",
       "  </tbody>\n",
       "</table>\n",
       "</div>"
      ],
      "text/plain": [
       "                                               complaint  \\\n",
       "12043  i received a chase debit card linked to a newl...   \n",
       "8317   i had a mortgage with chase that i wanted to r...   \n",
       "70576  i have made transferred payment to my daughter...   \n",
       "54649  on friday   charged over  dollars on my debit ...   \n",
       "3194   chase first card allowed     to charge to my c...   \n",
       "\n",
       "                                         complaint_lemma  \\\n",
       "12043  I receive a chase debit card link to a newly o...   \n",
       "8317   I have a mortgage with chase that I want to re...   \n",
       "70576  I have make transfer payment to my daughter ac...   \n",
       "54649  on friday    charge over   dollar on my debit ...   \n",
       "3194   chase first card allow      to charge to my cr...   \n",
       "\n",
       "                                         complaint_nouns  \\\n",
       "12043  debit card link checking account company accou...   \n",
       "8317   mortgage chase lock rate chase refinance form ...   \n",
       "70576  payment daughter account bank daughter account...   \n",
       "54649  charge dollar debit account permission claim p...   \n",
       "3194   chase credit card month stay authorization dis...   \n",
       "\n",
       "                           topic  label  \n",
       "12043      Bank account services      0  \n",
       "8317             Mortgages/loans      4  \n",
       "70576      Bank account services      0  \n",
       "54649                     Others      2  \n",
       "3194   Theft / Dispute reporting      3  "
      ]
     },
     "execution_count": 2,
     "metadata": {},
     "output_type": "execute_result"
    }
   ],
   "source": [
    "tickets = pd.read_pickle(support_tickets_file)\n",
    "tickets.sample(5)"
   ]
  },
  {
   "cell_type": "code",
   "execution_count": 3,
   "metadata": {},
   "outputs": [
    {
     "name": "stdout",
     "output_type": "stream",
     "text": [
      "Number of tickets: 21072\n"
     ]
    }
   ],
   "source": [
    "print('Number of tickets:', len(tickets))"
   ]
  },
  {
   "cell_type": "code",
   "execution_count": 35,
   "metadata": {},
   "outputs": [
    {
     "data": {
      "text/plain": [
       "['Bank account services',\n",
       " 'Credit card / Prepaid card',\n",
       " 'Others',\n",
       " 'Theft / Dispute reporting',\n",
       " 'Mortgages/loans']"
      ]
     },
     "execution_count": 35,
     "metadata": {},
     "output_type": "execute_result"
    }
   ],
   "source": [
    "pd.unique(tickets.topic).tolist()"
   ]
  },
  {
   "attachments": {},
   "cell_type": "markdown",
   "metadata": {},
   "source": [
    "#### Data Frequency Analysis\n",
    "***\n",
    "* I create a pipeline to improve the efficiency and modularity of the steps taken to analyse and label the data.\n",
    "* I then show the top **num_samples** words by frequency."
   ]
  },
  {
   "cell_type": "code",
   "execution_count": 4,
   "metadata": {},
   "outputs": [],
   "source": [
    "# I create a pipeline to improve the efficiency and modularity of the steps taken to analyse and label the data.\n",
    "pipe = vectorizer_pipeline(tickets['complaint_nouns'])"
   ]
  },
  {
   "cell_type": "code",
   "execution_count": 5,
   "metadata": {},
   "outputs": [
    {
     "data": {
      "image/png": "[encoded data removed]",
      "text/plain": [
       "<Figure size 1000x400 with 1 Axes>"
      ]
     },
     "metadata": {},
     "output_type": "display_data"
    }
   ],
   "source": [
    "# shows the top nouns across all support tickets.\n",
    "show_top_words(text=tickets['complaint_nouns'], pipeline=pipe, num_samples=10)"
   ]
  },
  {
   "attachments": {},
   "cell_type": "markdown",
   "metadata": {},
   "source": [
    "#### Dataset & Dataloader\n",
    "***\n",
    "* PyTorch loves dataloaders, it ends up being the easiest way to feed data into the models you develop.\n",
    "* It is also very efficient since data is fed by a generator, reducing the expensive task of applying the transformations on all the data at once.\n",
    "* The a dataloader takes a **torch.utils.data.Dataset** object. TicketDataset is the class is used to transform the data in the dataset object into the correct format for the dataloader object. This also works as a generator which increases overall efficiency."
   ]
  },
  {
   "cell_type": "code",
   "execution_count": 6,
   "metadata": {},
   "outputs": [],
   "source": [
    "tokenizer = AutoTokenizer.from_pretrained('bert-base-uncased')\n",
    "dataset = TicketDataset(tickets, tokenizer)\n",
    "trainset, testset = to_dataloader(dataset, batch_size=16, split=0.8)"
   ]
  },
  {
   "attachments": {},
   "cell_type": "markdown",
   "metadata": {},
   "source": [
    "#### Initializing Models & Hyper-Parameters\n",
    "***\n",
    "* **EncoderTransformer** is my implementation of a transformer ticket classifier.\n",
    "* **ConvNet** is my approximation of the neural network described in the paper: *Hyperparameter Black-Box Optimization to Improve the Automatic Classification of Support Tickets*, which I am trying to improve upon with my EncoderTranformer."
   ]
  },
  {
   "attachments": {},
   "cell_type": "markdown",
   "metadata": {},
   "source": [
    "##### Hyper-Parameters"
   ]
  },
  {
   "cell_type": "code",
   "execution_count": 7,
   "metadata": {},
   "outputs": [],
   "source": [
    "epochs = 5\n",
    "n_embed = 32\n",
    "block_size = 200\n",
    "num_filters = 512\n",
    "embedding_dim = 300\n",
    "num_ticket_classes = 5\n",
    "filter_sizes = [5, 4, 3]\n",
    "vocabulary_size = len(dataset.tokenizer.vocab)\n",
    "device = torch.device('cuda') if torch.cuda.is_available() else torch.device('cpu')\n",
    "class_weights = get_class_weights(torch.tensor(tickets['label'].tolist()), num_ticket_classes, mode=2)"
   ]
  },
  {
   "attachments": {},
   "cell_type": "markdown",
   "metadata": {},
   "source": [
    "##### Models"
   ]
  },
  {
   "cell_type": "code",
   "execution_count": 8,
   "metadata": {},
   "outputs": [
    {
     "name": "stderr",
     "output_type": "stream",
     "text": [
      "Some weights of the model checkpoint at bert-base-uncased were not used when initializing BertModel: ['cls.seq_relationship.bias', 'cls.predictions.transform.dense.weight', 'cls.predictions.transform.LayerNorm.weight', 'cls.seq_relationship.weight', 'cls.predictions.bias', 'cls.predictions.transform.dense.bias', 'cls.predictions.transform.LayerNorm.bias', 'cls.predictions.decoder.weight']\n",
      "- This IS expected if you are initializing BertModel from the checkpoint of a model trained on another task or with another architecture (e.g. initializing a BertForSequenceClassification model from a BertForPreTraining model).\n",
      "- This IS NOT expected if you are initializing BertModel from the checkpoint of a model that you expect to be exactly identical (initializing a BertForSequenceClassification model from a BertForSequenceClassification model).\n"
     ]
    }
   ],
   "source": [
    "transformer = EncoderTransformer(\n",
    "    vocabulary_size, embedding_dim, block_size, num_ticket_classes\n",
    ").to(device)\n",
    "cnn = ConvNet(\n",
    "    vocabulary_size, embedding_dim, num_filters, filter_sizes, num_ticket_classes\n",
    ").to(device)\n",
    "bert = BertClassifier(\n",
    "    num_classes=num_ticket_classes\n",
    ").to(device)"
   ]
  },
  {
   "attachments": {},
   "cell_type": "markdown",
   "metadata": {},
   "source": [
    "#### Train & Evaluate the Models"
   ]
  },
  {
   "cell_type": "code",
   "execution_count": null,
   "metadata": {},
   "outputs": [],
   "source": [
    "transformer, train_acc, test_acc = train_and_evaluate(\n",
    "    model=transformer, \n",
    "    training_data=trainset, \n",
    "    validation_data=testset, \n",
    "    is_bert=False, \n",
    "    class_weights=None, \n",
    "    verbose=True, \n",
    "    epochs=epochs, \n",
    "    device=device\n",
    ")"
   ]
  },
  {
   "cell_type": "code",
   "execution_count": null,
   "metadata": {},
   "outputs": [
    {
     "name": "stdout",
     "output_type": "stream",
     "text": [
      "Starting Training\n",
      "Epoch 0 Complete\n",
      "- Loss: 1.4724738597869873\n",
      "Epoch 1 Complete\n",
      "- Loss: 1.5337328910827637\n",
      "Epoch 2 Complete\n",
      "- Loss: 1.0276122093200684\n",
      "Epoch 3 Complete\n",
      "- Loss: 1.017243504524231\n",
      "Epoch 4 Complete\n",
      "- Loss: 0.8963959813117981\n",
      "Starting Evaluation\n",
      "Train Accuracy: 0.871092127899389\n",
      "Test Accuracy: 0.8241992882562278\n"
     ]
    }
   ],
   "source": [
    "cnn, train_acc, test_acc = train_and_evaluate(\n",
    "    model=cnn, \n",
    "    training_data=trainset, \n",
    "    validation_data=testset, \n",
    "    is_bert=False, \n",
    "    class_weights=class_weights, \n",
    "    verbose=True, \n",
    "    epochs=epochs, \n",
    "    device=device\n",
    ")"
   ]
  },
  {
   "cell_type": "code",
   "execution_count": 17,
   "metadata": {},
   "outputs": [
    {
     "name": "stdout",
     "output_type": "stream",
     "text": [
      "Starting Training\n",
      "Epoch 0 Complete\n",
      "- Loss: 1.7022219896316528\n",
      "Epoch 1 Complete\n",
      "- Loss: 1.5906702280044556\n",
      "Epoch 2 Complete\n",
      "- Loss: 1.5588196516036987\n",
      "Epoch 3 Complete\n",
      "- Loss: 1.5041851997375488\n",
      "Epoch 4 Complete\n",
      "- Loss: 1.6233906745910645\n",
      "Starting Evaluation\n",
      "Train Accuracy: 0.2288070237883372\n",
      "Test Accuracy: 0.22633451957295372\n"
     ]
    }
   ],
   "source": [
    "bert, train_acc, test_acc = train_and_evaluate(\n",
    "    model=bert, \n",
    "    training_data=trainset, \n",
    "    validation_data=testset, \n",
    "    is_bert=True, \n",
    "    class_weights=None, \n",
    "    verbose=True, \n",
    "    epochs=epochs, \n",
    "    device=device\n",
    ")"
   ]
  },
  {
   "attachments": {},
   "cell_type": "markdown",
   "metadata": {},
   "source": [
    "#### Saving Models\n",
    "***\n",
    "If you wish to save the trained models, please uncomment the code below."
   ]
  },
  {
   "cell_type": "code",
   "execution_count": null,
   "metadata": {},
   "outputs": [],
   "source": [
    "# if save_models:\n",
    "#     torch.save(transformer.state_dict(), 'transformer.pt')\n",
    "#     torch.save(cnn.state_dict(), 'cnn.pt')"
   ]
  }
 ],
 "metadata": {
  "kernelspec": {
   "display_name": "Python 3",
   "language": "python",
   "name": "python3"
  },
  "language_info": {
   "codemirror_mode": {
    "name": "ipython",
    "version": 3
   },
   "file_extension": ".py",
   "mimetype": "text/x-python",
   "name": "python",
   "nbconvert_exporter": "python",
   "pygments_lexer": "ipython3",
   "version": "3.10.12"
  },
  "orig_nbformat": 4
 },
 "nbformat": 4,
 "nbformat_minor": 2
}
